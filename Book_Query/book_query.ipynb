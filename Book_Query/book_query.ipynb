{
 "cells": [
  {
   "cell_type": "code",
   "execution_count": 1,
   "metadata": {},
   "outputs": [],
   "source": [
    "from langchain.text_splitter import RecursiveCharacterTextSplitter\n",
    "from langchain.chains import RetrievalQA\n",
    "from langchain.document_loaders import TextLoader, PyPDFLoader, DirectoryLoader"
   ]
  },
  {
   "cell_type": "code",
   "execution_count": 2,
   "metadata": {},
   "outputs": [
    {
     "data": {
      "text/plain": [
       "'e:\\\\Langchain\\\\Book_Query'"
      ]
     },
     "execution_count": 2,
     "metadata": {},
     "output_type": "execute_result"
    }
   ],
   "source": [
    "import os\n",
    "%pwd"
   ]
  },
  {
   "cell_type": "code",
   "execution_count": 3,
   "metadata": {},
   "outputs": [
    {
     "data": {
      "text/plain": [
       "'e:\\\\Langchain'"
      ]
     },
     "execution_count": 3,
     "metadata": {},
     "output_type": "execute_result"
    }
   ],
   "source": [
    "os.chdir(\"../\")\n",
    "%pwd"
   ]
  },
  {
   "cell_type": "code",
   "execution_count": 4,
   "metadata": {},
   "outputs": [],
   "source": [
    "loader = DirectoryLoader(\"./books\", glob=\"./*.pdf\", loader_cls=PyPDFLoader)\n",
    "\n",
    "documents = loader.load()"
   ]
  },
  {
   "cell_type": "code",
   "execution_count": 5,
   "metadata": {},
   "outputs": [
    {
     "data": {
      "text/plain": [
       "837"
      ]
     },
     "execution_count": 5,
     "metadata": {},
     "output_type": "execute_result"
    }
   ],
   "source": [
    "len(documents)"
   ]
  },
  {
   "cell_type": "code",
   "execution_count": 6,
   "metadata": {},
   "outputs": [
    {
     "data": {
      "text/plain": [
       "1548"
      ]
     },
     "execution_count": 6,
     "metadata": {},
     "output_type": "execute_result"
    }
   ],
   "source": [
    "text_splitter = RecursiveCharacterTextSplitter(chunk_size=2000, chunk_overlap=200)\n",
    "\n",
    "docs = text_splitter.split_documents(documents)\n",
    "\n",
    "# how many chunks?\n",
    "len(docs)"
   ]
  },
  {
   "cell_type": "code",
   "execution_count": 7,
   "metadata": {},
   "outputs": [
    {
     "name": "stdout",
     "output_type": "stream",
     "text": [
      "page_content='school years, I had managed to become a college athlete.\\nI wasn’t going to be starting on the baseball team anytime soon,\\nso I focused on getting my life in order. While my peers stayed up\\nlate and played video games, I built good sleep habits and went to\\nbed early each night. In the messy world of a college dorm, I made a\\npoint to \\nkeep my room neat and tidy. These improvements were' metadata={'source': 'books\\\\Atomic-Habits.pdf', 'page': 9}\n",
      "page_content='1990s.\\nPlan de A yala  Zapata’ s plan calling for major agrarian reform.\\nPlan de San Luis Potosí  Madero’ s plan calling for the overthrow of\\nPorfirio Díaz.\\nPNR  National Revolutionary Party , which dominated Mexican political life\\nfrom 1929 to 1936.\\nporfiriato  Period of Mexican history encompassing the regime of Porfirio\\nDíaz during the years 1876 to 191 1.\\npragmática  Royal ordinance or decree.\\nPRD  Revolutionary Democratic Party , an influential left of center\\nopposition party .\\nPRI  Revolutionary Institutional Party , the dominant political party of the\\nsecond half of the twentieth century .\\nprincipales  In Native American communities, members of the nobility or\\nother persons of high distinction.\\nPRM  Party of the Mexican Revolution and successor to the National\\nRevolutionary Party .\\npr onunciamiento  Rebellion or military uprising.\\nProceso  W eekly news magazine, to which leading intellectuals contribute\\nregularly .\\npulque  Fermented juice made from the maguey and a source of intoxication\\namong the poor .\\npulquería  Drinking establishment serving pulque.\\nQuetzalcóatl  Feathered serpent and the benevolent Aztec God of\\nKnowledge.\\nRadionovelas  Radio soap operas.\\nrancher o  Small independent farmer or rancher .\\nRegeneración  The Flores Magón newspaper important in the prehistory of\\nthe Mexican Revolution of 1910.\\nr egidor es  Local of ficials sitting on the ayuntamiento or town council.\\nr epartimiento  A division of goods or services; also designated a system of\\nforced labor for wages during the colonial period.' metadata={'source': 'books\\\\The-Oxford-History-of-Mexico.pdf', 'page': 752}\n"
     ]
    }
   ],
   "source": [
    "print(docs[10])\n",
    "print(docs[2500])"
   ]
  },
  {
   "cell_type": "code",
   "execution_count": 7,
   "metadata": {},
   "outputs": [
    {
     "name": "stderr",
     "output_type": "stream",
     "text": [
      "e:\\Langchain\\venv\\lib\\site-packages\\tqdm\\auto.py:21: TqdmWarning: IProgress not found. Please update jupyter and ipywidgets. See https://ipywidgets.readthedocs.io/en/stable/user_install.html\n",
      "  from .autonotebook import tqdm as notebook_tqdm\n"
     ]
    }
   ],
   "source": [
    "from langchain.embeddings import HuggingFaceBgeEmbeddings\n",
    "\n",
    "model_name = \"BAAI/bge-base-en\"\n",
    "\n",
    "embeddings = HuggingFaceBgeEmbeddings(model_name=model_name)"
   ]
  },
  {
   "cell_type": "code",
   "execution_count": 8,
   "metadata": {},
   "outputs": [],
   "source": [
    "from langchain.vectorstores import Pinecone"
   ]
  },
  {
   "cell_type": "code",
   "execution_count": 9,
   "metadata": {},
   "outputs": [
    {
     "name": "stdout",
     "output_type": "stream",
     "text": [
      "768\n"
     ]
    }
   ],
   "source": [
    "check = embeddings.embed_query(\"how are you?\")\n",
    "print(len(check)) # length of vector embedding"
   ]
  },
  {
   "cell_type": "code",
   "execution_count": 10,
   "metadata": {},
   "outputs": [],
   "source": [
    "PINECONE_API_KEY = os.environ.get(\"PINECONE_API_KEY\")\n",
    "PINECONE_ENV = os.environ.get(\"PINECONE_ENV\")"
   ]
  },
  {
   "cell_type": "code",
   "execution_count": 11,
   "metadata": {},
   "outputs": [],
   "source": [
    "from pinecone import Pinecone"
   ]
  },
  {
   "cell_type": "code",
   "execution_count": 12,
   "metadata": {},
   "outputs": [],
   "source": [
    "index_name = \"source-embed-1\"\n",
    "\n",
    "pc = Pinecone(api_key=PINECONE_API_KEY)\n",
    "\n",
    "index = pc.Index(index_name)"
   ]
  },
  {
   "cell_type": "code",
   "execution_count": 13,
   "metadata": {},
   "outputs": [],
   "source": [
    "from langchain.vectorstores import Pinecone"
   ]
  },
  {
   "cell_type": "code",
   "execution_count": 14,
   "metadata": {},
   "outputs": [],
   "source": [
    "text_embed = Pinecone.from_texts([t.page_content for t in docs], embeddings, index_name=index_name)"
   ]
  },
  {
   "cell_type": "code",
   "execution_count": 15,
   "metadata": {},
   "outputs": [
    {
     "data": {
      "text/plain": [
       "[Document(page_content='reporter , “when a little cannon smoke is not such a bad thing.” In his first\\nterm, there was more than a little.\\nThe first order of business was dealing with the political opposition.\\nDíaz was not the only prominent political figure disturbed by the illegalities\\nof Lerdo’ s 1876 reelection. Chief Justice of the Supreme Court José María\\nIglesias refused to ratify the results and declared against the government as\\nwell, delivering a fatal blow to the incumbent, who until then had\\nsuccessfully kept the rebellion at bay . W ith Lerdo on his way into exile,\\nDíaz sought a deal with Iglesias, president by constitutional order of\\nsuccession. When he refused to cooperate, Díaz made short work of his\\nrapidly dissolving army . Ever respectful of democratic conventions, Díaz\\nwas formally elected president in 1877.\\nIf many Mexicans welcomed the onset of peace, Díaz’ s political\\nopponents did their best to undermine it. A series of uprisings by Lerdo\\nsupporters over the course of his first four -year term, several launched from\\nthe relative safety of the U.S. border , were easily and often brutally\\nsuppressed either by Díaz’ s army or by the forces of powerful allies like the\\nNuevo León cacique  (strongman) Jerónimo T reviño. Disgruntled generals,\\nsome displeased with the division of spoils, others resistant to the growing\\npower of the Porfirian state apparatus, met a similar fate. So did less\\nprominent opponents, whether dispossessed campesinos  (peasants) or\\nalienated pur o  (radical) liberals. When asked by V eracruz governor Luis\\nMier y T erán to decide the fate of nine local businessmen accused of\\nsedition, Díaz reputedly telegraphed back, “Kill them at once.” T rue or not,\\nthis often-repeated anecdote demonstrated the president’ s resolve to his\\npotential opponents. It also highlighted the benefits of a rapidly growing\\ninfrastructure of telegraph lines, highways, and railroads that considerably\\nimproved the regime’ s ability to deal with internal threats to public order .'),\n",
       " Document(page_content='administration, and railroads), defer to the rule of law , and direct their\\nloyalties toward the nation-state.\\nIn Mexico, as elsewhere, this realignment of af finities was easier said\\nthan done. In Porfirian Mexico, the slogans revealed a fundamental\\ncontradiction. There the commitment to order meant less violence perhaps\\nand more administration certainly , but it also meant more politics (and more\\npersonalized politics), rather than less. In fact, Díaz’ s remarkable ability to\\nmanipulate the traditional social relations of patronage, clientage, and even\\ngodparentage was the keystone in the arch of order . W ithout politics, and\\ntraditional politics at that, the regime stood little chance of success. So the\\nIndispensable Caudillo proceeded to play politics with a vengeance.\\nT o the intelligentsia, Porfirio Díaz was the quintessential Mexican\\npolitician. Sociologist Andrés Molina Enríquez, for example, remarked on\\n“the mutual comprehension and confidence” that Díaz shared even with\\nignorant indios , a trait he ascribed to the general’ s mestizo heritage.\\n“Physically and morally ,” he concluded, “General Díaz [is] a wonderful\\nexample of the national mestizo racial type that has begun to be, and plainly\\nwill be in the future, the true national type.” For francophiles like novelist\\nFederico Gamboa, his very Mexicanness made Díaz something of an\\nenigma. After years of observation, the era’ s foremost chronicler of the\\nhuman condition could only conclude that “he is the Sphinx, even by his\\ncolor and by his origin, he is the Sphinx!”\\nMore analytical than most (although just as condescending), Justo Sierra\\ncommented on Díaz’ s “inverted” mental pattern in which “deliberation\\nfollows the act of will . . . and modifies or even nullifies the original\\ndecision.” This typically mestizo mental pattern, Sierra added, “has given\\nrise to imputations of political perfidy (deceiving in order to persuade,\\ndividing in order to rule)” even if these traditional political vices are'),\n",
       " Document(page_content='his themes, and the press willingly portrayed him as a centralist (Díaz\\nOrdaz was fond of comparing himself to the sonar device on a submarine,\\nable to know by the voices of critics on the right and the left that his course\\nwas correct). In his 1963 nomination speech, he vowed to protect civil\\nliberties. Once in of fice, he lar gely continued the policies of his\\npredecessor . Four López Mateos cabinet of ficers served under him, while\\nthe novelist Agustín Yáñez oversaw a Ministry of Education that still\\nreceived a disproportionate share of the federal budget. It is true that Díaz\\nOrdaz curtailed agrarian reform, but this appears to have been more the\\nresult of a shortage of distributable land than an ideological objective. As he\\ninsinuated he would in his inauguration speech, he preserved formal\\nrelations with Fidel Castro’ s Cuba, to the chagrin of the United States, and\\nhis Ministry of Foreign Af fairs spearheaded a drive to make Latin America\\na nuclear -free zone.\\nDíaz Ordaz, then, was not an unusual president out of step with Mexico’ s\\npolitical establishment. Y et his term in of fice, marred by a series of events\\ndestined to vilify him, was atypical. The paranoia of the powerful elites he\\nrepresented collided with the aspirations of idealistic middle-class\\nteenagers.\\nThe origins of the crisis were amazingly simple. In July 1968, after\\nmonths of mindless juvenile petty crime driven by gang allegiances and\\ninterschool rivalries, Mexico City’ s crack riot police badly overreacted to a\\nstreet melee between competing students from two downtown preparatory\\nschools. The Granaderos, as these troops were called, had had a long history\\nof abusive treatment of civilians since their founding under Alemán in\\n1949. After roughing up multiple teens and bystanders, the Granaderos\\nthemselves became a cause of protest, upon which, perhaps to the surprise\\nof everyone, tens of thousands of angry citizens took to the streets. On July'),\n",
       " Document(page_content='he stood on the balcony of the National Palace. On the float designed by the\\nFederal District Railway Company , described as a representation of the\\nvolcano Popocatépetl, a train of two electrical cars propelled by a trolley\\nsystem, complete with motormen and passengers, continually circled a track\\nand disappeared into a semicircular tunnel bored into the volcano, only to\\nreappear again with its gong sounding. An insurance company float\\nportrayed a figure in scarlet and silver , standing protectively over a widow\\ndeep in mourning with a baby on her lap, as a child in pink and silver with\\nsilver wings (an allegorical representation of Fame) floated behind the\\nwidow . And on the rear of the float sponsored by the electrical companies\\nstood a female impersonation of “Electricity” controlling the terrestrial\\nglobe.\\nAlthough the date, September 15, seemingly marked this as a celebration\\nof Mexican independence, it was not. Rather , in an attempt to insinuate\\nhimself into Mexico’ s pantheon of national heroes, Díaz now celebrated his\\nsaint’ s day on this date, redefining tradition to link himself more closely\\nwith the myths sacralizing the founding of the Mexican nation. Nor was this\\nthe extent of the ceremonies honoring the president. Whereas companies\\nand business groups or ganized the procession, the dif ferent Mexican states\\nbuilt a series of triumphal arches for the president and other notables to pass\\nunder in their carriages while being showered with flowers, confetti, and\\ncries of “V iva!” At the first arch, contributed by his own state, Oaxaca, an\\norator praised Díaz for his supposedly great contribution to improving the\\nconditions of the working class: “At present, when the workman returns to\\nhis home at night, he finds his supper ready and his wife and children greet\\nhim with gladness, and for each moment of happiness they enjoy they call\\ndown blessings on your head.”\\nThe day’ s events reveal many of the main tenets that characterized the')]"
      ]
     },
     "execution_count": 15,
     "metadata": {},
     "output_type": "execute_result"
    }
   ],
   "source": [
    "query = \"who is President Diaz?\"\n",
    "query_similar = text_embed.similarity_search(query,k=4)\n",
    "query_similar"
   ]
  }
 ],
 "metadata": {
  "kernelspec": {
   "display_name": "Python 3",
   "language": "python",
   "name": "python3"
  },
  "language_info": {
   "codemirror_mode": {
    "name": "ipython",
    "version": 3
   },
   "file_extension": ".py",
   "mimetype": "text/x-python",
   "name": "python",
   "nbconvert_exporter": "python",
   "pygments_lexer": "ipython3",
   "version": "3.10.14"
  }
 },
 "nbformat": 4,
 "nbformat_minor": 2
}
